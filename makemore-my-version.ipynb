{
 "cells": [
  {
   "cell_type": "code",
   "execution_count": 10,
   "id": "80529a74-b534-48f2-971a-b40f33818009",
   "metadata": {},
   "outputs": [
    {
     "data": {
      "text/plain": [
       "str"
      ]
     },
     "execution_count": 10,
     "metadata": {},
     "output_type": "execute_result"
    }
   ],
   "source": [
    "## bigram with statistical modeling.\n",
    "\n",
    "# Loading the data set\n",
    "words = []\n",
    "with open(\"./names.txt\", \"r\") as file:\n",
    "    content = file.read()\n",
    "    words.append(content.split(\"\\n\"))\n",
    "\n",
    "\n",
    "\n",
    "type(words[0][0])\n",
    "# Making a lookup of distributed probability\n",
    "# Sampling from the lookup"
   ]
  },
  {
   "cell_type": "code",
   "execution_count": null,
   "id": "ed84652d-3b20-4db0-ab66-158a5e400152",
   "metadata": {},
   "outputs": [],
   "source": []
  }
 ],
 "metadata": {
  "kernelspec": {
   "display_name": "Python 3 (ipykernel)",
   "language": "python",
   "name": "python3"
  },
  "language_info": {
   "codemirror_mode": {
    "name": "ipython",
    "version": 3
   },
   "file_extension": ".py",
   "mimetype": "text/x-python",
   "name": "python",
   "nbconvert_exporter": "python",
   "pygments_lexer": "ipython3",
   "version": "3.12.3"
  }
 },
 "nbformat": 4,
 "nbformat_minor": 5
}
